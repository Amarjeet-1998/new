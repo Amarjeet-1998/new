{
  "nbformat": 4,
  "nbformat_minor": 0,
  "metadata": {
    "colab": {
      "name": "Untitled41.ipynb",
      "provenance": [],
      "authorship_tag": "ABX9TyPSJXESoaebR7qVMt50Q5VC",
      "include_colab_link": true
    },
    "kernelspec": {
      "name": "python3",
      "display_name": "Python 3"
    },
    "language_info": {
      "name": "python"
    }
  },
  "cells": [
    {
      "cell_type": "markdown",
      "metadata": {
        "id": "view-in-github",
        "colab_type": "text"
      },
      "source": [
        "<a href=\"https://colab.research.google.com/github/Amarjeet-1998/new/blob/main/Untitled41.ipynb\" target=\"_parent\"><img src=\"https://colab.research.google.com/assets/colab-badge.svg\" alt=\"Open In Colab\"/></a>"
      ]
    },
    {
      "cell_type": "code",
      "execution_count": 1,
      "metadata": {
        "colab": {
          "base_uri": "https://localhost:8080/",
          "height": 130
        },
        "id": "ku6gaNOpi2au",
        "outputId": "e0540073-b431-40b7-af98-c1d4dd532f04"
      },
      "outputs": [
        {
          "output_type": "error",
          "ename": "SyntaxError",
          "evalue": "ignored",
          "traceback": [
            "\u001b[0;36m  File \u001b[0;32m\"<ipython-input-1-113de8766ffc>\"\u001b[0;36m, line \u001b[0;32m1\u001b[0m\n\u001b[0;31m    if (Runway==\"free\") then\u001b[0m\n\u001b[0m                           ^\u001b[0m\n\u001b[0;31mSyntaxError\u001b[0m\u001b[0;31m:\u001b[0m invalid syntax\n"
          ]
        }
      ],
      "source": [
        "if (Runway==\"free\") then\n",
        "   display \"Land\"\n",
        "else if (Fuel_Status==\"low\") then\n",
        "   display \"Emergency landing\"\n",
        "else\n",
        "   display \"Circle in the air\"\n",
        "end-if\n"
      ]
    },
    {
      "cell_type": "code",
      "source": [
        "if (Runway==\"free\") then\n",
        "   display \"Land\"\n",
        "end-if\n",
        "if (Fuel_Status==\"low\") then\n",
        "   display \"Emergency landing\"\n",
        "else\n",
        "   display \"Circle in the air\"\n",
        "end-if\n"
      ],
      "metadata": {
        "colab": {
          "base_uri": "https://localhost:8080/",
          "height": 130
        },
        "id": "nDWo-7Bdi5cA",
        "outputId": "1fec2b5e-c1f7-41b5-ce9e-a3b3661855c8"
      },
      "execution_count": 2,
      "outputs": [
        {
          "output_type": "error",
          "ename": "SyntaxError",
          "evalue": "ignored",
          "traceback": [
            "\u001b[0;36m  File \u001b[0;32m\"<ipython-input-2-71dd997c0d10>\"\u001b[0;36m, line \u001b[0;32m1\u001b[0m\n\u001b[0;31m    if (Runway==\"free\") then\u001b[0m\n\u001b[0m                           ^\u001b[0m\n\u001b[0;31mSyntaxError\u001b[0m\u001b[0;31m:\u001b[0m invalid syntax\n"
          ]
        }
      ]
    },
    {
      "cell_type": "code",
      "source": [
        "if (Runway==\"free\") then\n",
        "   display \"Land\"\n",
        "else if (Fuel_Status==\"low\") then\n",
        "   display \"Emergency landing\"\n",
        "else\n",
        "   display \"Circle in the air\"\n",
        "end-if\n",
        "if (Runway==\"free\") then\n",
        "   display \"Land\"\n",
        "end-if\n",
        "if (Fuel_Status==\"low\") then\n",
        "   display \"Emergency landing\"\n",
        "else\n",
        "   display \"Circle in the air\"\n",
        "end-if\n",
        "if (Runway==\"free\") then\n",
        "   display \"Land\"\n",
        "else if (Fuel_Status==\"low\") then\n",
        "   display \"Emergency landing\"\n",
        "else\n",
        "   display \"Circle in the air\"\n",
        "end-if\n"
      ],
      "metadata": {
        "colab": {
          "base_uri": "https://localhost:8080/",
          "height": 130
        },
        "id": "KyyNjwK_jD9S",
        "outputId": "9b5b98bd-881a-42ee-f667-7b729daabf54"
      },
      "execution_count": 3,
      "outputs": [
        {
          "output_type": "error",
          "ename": "SyntaxError",
          "evalue": "ignored",
          "traceback": [
            "\u001b[0;36m  File \u001b[0;32m\"<ipython-input-3-cf1bdc0c8634>\"\u001b[0;36m, line \u001b[0;32m1\u001b[0m\n\u001b[0;31m    if (Runway==\"free\") then\u001b[0m\n\u001b[0m                           ^\u001b[0m\n\u001b[0;31mSyntaxError\u001b[0m\u001b[0;31m:\u001b[0m invalid syntax\n"
          ]
        }
      ]
    },
    {
      "cell_type": "code",
      "source": [
        "display \"Flight has landed\"\n",
        "display \"Proceed for Immigration Check\"\n",
        "Passenger_Count=1\n",
        "display \"Immigration check done for passenger,\", Passenger_Count\n",
        "Passenger_Count=Passenger_Count+1\n",
        "display \"Immigration check done for passenger,\", Passenger_Count\n",
        "Passenger_Count=Passenger_Count+1\n",
        "display \"Immigration check done for passenger,\", Passenger_Count\n",
        "Passenger_Count=Passenger_Count+1\n",
        "display \"Immigration check done for passenger,\", Passenger_Count\n",
        "Passenger_Count=Passenger_Count+1\n",
        "display \"Immigration check done for passenger,\", Passenger_Count\n"
      ],
      "metadata": {
        "id": "6z82Tec7jV8j"
      },
      "execution_count": null,
      "outputs": []
    },
    {
      "cell_type": "code",
      "source": [
        "No_Of_Passengers=5\n",
        "for(Passenger_Count=1,Passenger_Count<=No_Of_Passengers,Passenger_Count=Passenger_Count+1)\n",
        "     display \"Immigration check done for passenger,\", Passenger_Count\n",
        "end-for\n"
      ],
      "metadata": {
        "id": "4VK66zx9jacQ"
      },
      "execution_count": null,
      "outputs": []
    },
    {
      "cell_type": "code",
      "source": [
        "display \"The flight has landed\"\n",
        "display \"Immigration check done\"\n",
        "display \" Collect the baggage from the conveyor belt\"\n",
        "Baggage_Count=150\n",
        "while(Baggage_Count>0) do\n",
        "    input No_Of_Baggage_Picked\n",
        "    Baggage_Count=Baggage_Count-No_Of_Baggage_Picked\n",
        "end-while\n"
      ],
      "metadata": {
        "id": "8zv6tgUYjj-j"
      },
      "execution_count": null,
      "outputs": []
    },
    {
      "cell_type": "code",
      "source": [
        "Counter=5\n",
        "while(Counter>=5) do\n",
        "  display Counter\n",
        "  Counter = Counter + 1\n",
        "end-while\n"
      ],
      "metadata": {
        "id": "7KO8jYq0jnqb"
      },
      "execution_count": null,
      "outputs": []
    },
    {
      "cell_type": "code",
      "source": [
        "input Limit\n",
        "for(Counter=5, Counter<=Limit, Counter=Counter-1)\n",
        "     display Counter\n",
        "end-for\n"
      ],
      "metadata": {
        "id": "ptOaSlQEjqTX"
      },
      "execution_count": null,
      "outputs": []
    }
  ]
}