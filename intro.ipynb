{
  "nbformat": 4,
  "nbformat_minor": 0,
  "metadata": {
    "colab": {
      "name": "intro.ipynb",
      "provenance": [],
      "collapsed_sections": [],
      "include_colab_link": true
    },
    "kernelspec": {
      "name": "python3",
      "display_name": "Python 3"
    },
    "language_info": {
      "name": "python"
    }
  },
  "cells": [
    {
      "cell_type": "markdown",
      "metadata": {
        "id": "view-in-github",
        "colab_type": "text"
      },
      "source": [
        "<a href=\"https://colab.research.google.com/github/Amarjeet-1998/new/blob/main/intro.ipynb\" target=\"_parent\"><img src=\"https://colab.research.google.com/assets/colab-badge.svg\" alt=\"Open In Colab\"/></a>"
      ]
    },
    {
      "cell_type": "code",
      "execution_count": 1,
      "metadata": {
        "colab": {
          "base_uri": "https://localhost:8080/"
        },
        "id": "vIAkg25cGCHH",
        "outputId": "053c431e-0270-4719-9841-e890bcf85d3b"
      },
      "outputs": [
        {
          "output_type": "stream",
          "name": "stdout",
          "text": [
            "Hello world\n"
          ]
        }
      ],
      "source": [
        "print(\"Hello world\")"
      ]
    },
    {
      "cell_type": "markdown",
      "source": [
        "create a function in python"
      ],
      "metadata": {
        "id": "SKchpSsiEac6"
      }
    },
    {
      "cell_type": "code",
      "source": [
        "def demo(name, age):\n",
        "  print(name, age)\n",
        "\n",
        "  # call function\n",
        "  demo(\"Ben\", 25)"
      ],
      "metadata": {
        "id": "8I2daw1aHFx6"
      },
      "execution_count": 2,
      "outputs": []
    },
    {
      "cell_type": "code",
      "source": [
        "demo"
      ],
      "metadata": {
        "id": "_OSnN6GpELwS",
        "outputId": "a4a1d604-fef6-4cc8-8c3a-f8087493636e",
        "colab": {
          "base_uri": "https://localhost:8080/"
        }
      },
      "execution_count": 3,
      "outputs": [
        {
          "output_type": "execute_result",
          "data": {
            "text/plain": [
              "<function __main__.demo(name, age)>"
            ]
          },
          "metadata": {},
          "execution_count": 3
        }
      ]
    },
    {
      "cell_type": "markdown",
      "source": [
        "2. create a function with variable length of arguments"
      ],
      "metadata": {
        "id": "pDi3F1c3Egm4"
      }
    },
    {
      "cell_type": "code",
      "source": [
        "def func1(*args):\n",
        "  for i in args:\n",
        "    print(i)"
      ],
      "metadata": {
        "id": "mCW0OkRdEU6_"
      },
      "execution_count": 4,
      "outputs": []
    },
    {
      "cell_type": "code",
      "source": [
        "func1(20,40,60)\n",
        "func1(80,100)"
      ],
      "metadata": {
        "id": "uXaJITfZEvLm",
        "outputId": "33807343-4247-41ae-f9dd-cd50df02288c",
        "colab": {
          "base_uri": "https://localhost:8080/"
        }
      },
      "execution_count": 5,
      "outputs": [
        {
          "output_type": "stream",
          "name": "stdout",
          "text": [
            "20\n",
            "40\n",
            "60\n",
            "80\n",
            "100\n"
          ]
        }
      ]
    },
    {
      "cell_type": "markdown",
      "source": [
        "3. Return multiple values from a function"
      ],
      "metadata": {
        "id": "JQhEJa5JFB0J"
      }
    },
    {
      "cell_type": "code",
      "source": [
        "def calculation(a, b):\n",
        "  addition = a+ b\n",
        "  subtraction = a - b\n",
        "  #return multiple values separated by comma\n",
        "  return addition, subtraction\n",
        "\n",
        "# get result in tuple format\n",
        "res = calculation(40,10)\n",
        "print(res)"
      ],
      "metadata": {
        "id": "qBJpprOrE_i_",
        "outputId": "d84725e1-6798-4003-c89b-d6f80e3ad25b",
        "colab": {
          "base_uri": "https://localhost:8080/"
        }
      },
      "execution_count": 6,
      "outputs": [
        {
          "output_type": "stream",
          "name": "stdout",
          "text": [
            "(50, 30)\n"
          ]
        }
      ]
    },
    {
      "cell_type": "code",
      "source": [
        "def calculation(a, b):\n",
        "  return a + b, a - b\n",
        "  # get result in tuple format\n",
        "  # unpack tuple\n",
        "add, sub = calculation(40, 10)\n",
        "print(add, sub)"
      ],
      "metadata": {
        "id": "oUDXWhutFaod",
        "outputId": "04cc1112-1e4a-421c-8bf0-9b547e11a182",
        "colab": {
          "base_uri": "https://localhost:8080/"
        }
      },
      "execution_count": 7,
      "outputs": [
        {
          "output_type": "stream",
          "name": "stdout",
          "text": [
            "50 30\n"
          ]
        }
      ]
    },
    {
      "cell_type": "markdown",
      "source": [
        "4. create a function with a default argument\n"
      ],
      "metadata": {
        "id": "REuETQVzG52M"
      }
    },
    {
      "cell_type": "code",
      "source": [
        "def show_employee(name, salary=9000):\n",
        "  print(\"Name:\", name, \"salary:\", salary)\n",
        "show_employee(\"Ben\", 12000)\n",
        "show_employee(\"Jessa\")"
      ],
      "metadata": {
        "id": "IUx7FQ3tGvRD",
        "outputId": "01fb698d-05e9-4086-b67b-3abfaaf9038f",
        "colab": {
          "base_uri": "https://localhost:8080/"
        }
      },
      "execution_count": 8,
      "outputs": [
        {
          "output_type": "stream",
          "name": "stdout",
          "text": [
            "Name: Ben salary: 12000\n",
            "Name: Jessa salary: 9000\n"
          ]
        }
      ]
    },
    {
      "cell_type": "markdown",
      "source": [
        "5. create an inner function to calculate the addition in the following way"
      ],
      "metadata": {
        "id": "UaWP-RfUIBhp"
      }
    },
    {
      "cell_type": "code",
      "source": [
        "def outer_fun(a, b):\n",
        "  square = a ** 2\n",
        "\n",
        "  # inner function\n",
        "  def addition(a, b):\n",
        "    return a + b\n",
        "  \n",
        "\n",
        "  add = addition(a, b)\n",
        "  return add + 5\n",
        "\n",
        "result = outer_fun(5,10)\n",
        "print(result)"
      ],
      "metadata": {
        "id": "o7MvUMg0H3lb",
        "outputId": "8e301b86-8aeb-4b67-da7d-bdb604757c36",
        "colab": {
          "base_uri": "https://localhost:8080/"
        }
      },
      "execution_count": 9,
      "outputs": [
        {
          "output_type": "stream",
          "name": "stdout",
          "text": [
            "20\n"
          ]
        }
      ]
    },
    {
      "cell_type": "markdown",
      "source": [
        "6. create a recursive function"
      ],
      "metadata": {
        "id": "MufXzYJaJFOQ"
      }
    },
    {
      "cell_type": "code",
      "source": [
        "def addition(num):\n",
        "  if num:\n",
        "    #call same function by reducing number by 1\n",
        "    return num + addition(num - 1)\n",
        "  else:\n",
        "    return 0\n",
        "\n",
        "\n",
        "res = addition(10)\n",
        "print(res)\n",
        "\n",
        "  "
      ],
      "metadata": {
        "id": "02D0-_RQIu26",
        "outputId": "a02218b2-472b-4abc-f4ac-b8b89cf56a9b",
        "colab": {
          "base_uri": "https://localhost:8080/"
        }
      },
      "execution_count": 10,
      "outputs": [
        {
          "output_type": "stream",
          "name": "stdout",
          "text": [
            "55\n"
          ]
        }
      ]
    },
    {
      "cell_type": "markdown",
      "source": [
        "7. Assign a different name to function and call it through the new name"
      ],
      "metadata": {
        "id": "OpbrcfRjKFh3"
      }
    },
    {
      "cell_type": "code",
      "source": [
        "def display_student(name, age):\n",
        "  print(name, age)\n",
        "\n",
        "display_student(\"Emma\", 26)\n",
        "\n",
        "showstudent = display_student\n",
        "showstudent(\"Emma\", 26)"
      ],
      "metadata": {
        "id": "zKtQD5iIJjFY",
        "outputId": "f818e539-4f51-440b-cd8b-6271e3416751",
        "colab": {
          "base_uri": "https://localhost:8080/"
        }
      },
      "execution_count": 11,
      "outputs": [
        {
          "output_type": "stream",
          "name": "stdout",
          "text": [
            "Emma 26\n",
            "Emma 26\n"
          ]
        }
      ]
    },
    {
      "cell_type": "markdown",
      "source": [
        "8. Generate a python list of all the even numbers between 4 to 30"
      ],
      "metadata": {
        "id": "yHTHCWA3K42C"
      }
    },
    {
      "cell_type": "code",
      "source": [
        "print(list(range(4, 30, 2)))"
      ],
      "metadata": {
        "id": "ASLbrXBrKw8_",
        "outputId": "b71447b3-49b8-4d5e-8dd0-05478542e5dc",
        "colab": {
          "base_uri": "https://localhost:8080/"
        }
      },
      "execution_count": 12,
      "outputs": [
        {
          "output_type": "stream",
          "name": "stdout",
          "text": [
            "[4, 6, 8, 10, 12, 14, 16, 18, 20, 22, 24, 26, 28]\n"
          ]
        }
      ]
    },
    {
      "cell_type": "markdown",
      "source": [
        "9. Find the largest item from a given list"
      ],
      "metadata": {
        "id": "zWHbCoQlLhgH"
      }
    },
    {
      "cell_type": "code",
      "source": [
        "x = [4, 6, 8, 24, 12, 2]\n",
        "print(max(x))"
      ],
      "metadata": {
        "id": "U92iL5riLRCq",
        "outputId": "8f7bb861-9aaa-482b-8426-a625c9dd5dfe",
        "colab": {
          "base_uri": "https://localhost:8080/"
        }
      },
      "execution_count": 13,
      "outputs": [
        {
          "output_type": "stream",
          "name": "stdout",
          "text": [
            "24\n"
          ]
        }
      ]
    },
    {
      "cell_type": "markdown",
      "source": [
        "1. create a string made of the first, middle and last character"
      ],
      "metadata": {
        "id": "3BALaFsrMGzn"
      }
    },
    {
      "cell_type": "code",
      "source": [
        "str1 = 'James'\n",
        "print(\"original string is\", str1)\n",
        "\n",
        "# get first character\n",
        "res = str1[0]\n",
        "\n",
        "# get string size\n",
        "l = len(str1)\n",
        "\n",
        "# Get middle index number\n",
        "mi = int(l/2)\n",
        "\n",
        "# Get middle character and add it to result\n",
        "res = res + str1[l - 1]\n",
        "\n",
        "print(\"New String:\", res)\n"
      ],
      "metadata": {
        "id": "XBx1Qsc4Lzvx",
        "outputId": "9207e39c-af69-49a9-e337-098bc8b8f40a",
        "colab": {
          "base_uri": "https://localhost:8080/"
        }
      },
      "execution_count": 14,
      "outputs": [
        {
          "output_type": "stream",
          "name": "stdout",
          "text": [
            "original string is James\n",
            "New String: Js\n"
          ]
        }
      ]
    },
    {
      "cell_type": "markdown",
      "source": [
        "1. Create a string made of the middle three characters"
      ],
      "metadata": {
        "id": "GU9vN03dNRKT"
      }
    },
    {
      "cell_type": "code",
      "source": [
        "def get_middle_three_chars(str1):\n",
        "  print(\"original string is \", str1)\n",
        "\n",
        "# first get middle index number\n",
        "  mi = int(len(str1) / 2)\n",
        "\n",
        "# use string slicing to get result characters\n",
        "  res = str1[mi - 1:mi + 2]\n",
        "  print(\"Middle three chars are:\", res)\n",
        "\n",
        "get_middle_three_chars(\"JhoonDipPeta\")\n",
        "get_middle_three_chars(\"JaSonAy\")\n",
        "\n"
      ],
      "metadata": {
        "id": "6ZmdH5rMM8fq",
        "outputId": "57b20079-4d44-4be8-b365-2469f12c10da",
        "colab": {
          "base_uri": "https://localhost:8080/"
        }
      },
      "execution_count": 15,
      "outputs": [
        {
          "output_type": "stream",
          "name": "stdout",
          "text": [
            "original string is  JhoonDipPeta\n",
            "Middle three chars are: Dip\n",
            "original string is  JaSonAy\n",
            "Middle three chars are: Son\n"
          ]
        }
      ]
    },
    {
      "cell_type": "markdown",
      "source": [
        "2. Append new string in the middle of a given string"
      ],
      "metadata": {
        "id": "oImBj8qcOkdU"
      }
    },
    {
      "cell_type": "code",
      "source": [
        "def append_middle(s1, s2):\n",
        "  print(\"Original strings are\", s1, s2)\n",
        "\n",
        "  #middle index number of s1\n",
        "  mi = int(len(s1)/ 2)\n",
        "\n",
        "  # get character from 0 to the middle index number from s1\n",
        "  x = s1[:mi:]\n",
        "  # concatenate s2 to it\n",
        "  x = x + s2\n",
        "  # append remaining character from s1\n",
        "  x = x + s1[mi:]\n",
        "\n",
        "  print(\"After appending new string in middle:\", x)\n",
        "\n",
        "append_middle(\"Adult\", \"Kelly\")\n",
        "\n"
      ],
      "metadata": {
        "id": "NkrpzY3EOgTi",
        "outputId": "2ef20980-8b1b-4f41-8ad8-3b522acc9dee",
        "colab": {
          "base_uri": "https://localhost:8080/"
        }
      },
      "execution_count": 16,
      "outputs": [
        {
          "output_type": "stream",
          "name": "stdout",
          "text": [
            "Original strings are Adult Kelly\n",
            "After appending new string in middle: AdKellyult\n"
          ]
        }
      ]
    },
    {
      "cell_type": "markdown",
      "source": [
        "3. create a new string made of the first, middle and last characters of each input string"
      ],
      "metadata": {
        "id": "hjhC18TRQQVm"
      }
    },
    {
      "cell_type": "code",
      "source": [
        "def mix_string(s1, s2):\n",
        "    # get first character from both string\n",
        "    first_char = s1[0] + s2[0]\n",
        "\n",
        "    # get middle character from both string\n",
        "    middle_char = s1[int(len(s1) / 2):int(len(s1) / 2) + 1] + s2[int(len(s2) / 2):int(len(s2) / 2) + 1]\n",
        "\n",
        "    # get last character from both string\n",
        "    last_char = s1[len(s1) - 1] + s2[len(s2) - 1]\n",
        "\n",
        "    # add all\n",
        "    res = first_char + middle_char + last_char\n",
        "    print(\"Mix String is \", res)\n",
        "\n",
        "s1 = \"America\"\n",
        "s2 = \"Japan\"\n",
        "mix_string(s1, s2)\n"
      ],
      "metadata": {
        "id": "qTmlGR1qQGri",
        "outputId": "0fca79ac-600a-4fc4-bc5d-6a91dc98e36f",
        "colab": {
          "base_uri": "https://localhost:8080/"
        }
      },
      "execution_count": 17,
      "outputs": [
        {
          "output_type": "stream",
          "name": "stdout",
          "text": [
            "Mix String is  AJrpan\n"
          ]
        }
      ]
    },
    {
      "cell_type": "markdown",
      "source": [
        "1. create a list by picking an odd- index items from the first list and even index items from the second"
      ],
      "metadata": {
        "id": "ufHJ3l1sPnfs"
      }
    },
    {
      "cell_type": "code",
      "source": [
        "list1 = [3,6,5,67,23,45,35,67]\n",
        "list2 = [4,7,3,6,4,63,53,53,53,64]\n",
        "res = list()\n",
        "\n",
        "odd_elements = list1[1::2]\n",
        "print(\"Element at odd -index position from list one\")\n",
        "print(odd_elements)\n",
        "\n",
        "even_elements = list2[0::2]\n",
        "print(\"Element at even- index positions from list two\")\n",
        "print(even_elements)\n",
        "\n",
        "print(\"printing final third list\")\n",
        "res.extend(odd_elements)\n",
        "res.extend(even_elements)\n",
        "print(res)"
      ],
      "metadata": {
        "id": "-YHgFXs7RXxn",
        "outputId": "465366d7-3110-42cd-d82a-4bdaa17819ee",
        "colab": {
          "base_uri": "https://localhost:8080/"
        }
      },
      "execution_count": 18,
      "outputs": [
        {
          "output_type": "stream",
          "name": "stdout",
          "text": [
            "Element at odd -index position from list one\n",
            "[6, 67, 45, 67]\n",
            "Element at even- index positions from list two\n",
            "[4, 3, 4, 53, 53]\n",
            "printing final third list\n",
            "[6, 67, 45, 67, 4, 3, 4, 53, 53]\n"
          ]
        }
      ]
    },
    {
      "cell_type": "markdown",
      "source": [
        "2. Remove and add items in a list"
      ],
      "metadata": {
        "id": "xmN9ml3YRGIX"
      }
    },
    {
      "cell_type": "code",
      "source": [
        "sample_list = [54, 44, 27, 79, 91, 41]\n",
        "\n",
        "print(\"original list\", sample_list)\n",
        "element = sample_list.pop(4)\n",
        "print(\"list After removing element at index 4\", sample_list)\n",
        "\n",
        "sample_list.insert(2, element)\n",
        "print(\"list after Adding element at index 2 \", sample_list)\n",
        "\n",
        "sample_list.append(element)\n",
        "print(\"list after Adding element at list\", sample_list)\n",
        "\n",
        "\n",
        "\n"
      ],
      "metadata": {
        "id": "3NCkRDtKQ8gH",
        "outputId": "df6125ab-8f44-4b2c-f82f-11a5c15e7a9a",
        "colab": {
          "base_uri": "https://localhost:8080/"
        }
      },
      "execution_count": 19,
      "outputs": [
        {
          "output_type": "stream",
          "name": "stdout",
          "text": [
            "original list [54, 44, 27, 79, 91, 41]\n",
            "list After removing element at index 4 [54, 44, 27, 79, 41]\n",
            "list after Adding element at index 2  [54, 44, 91, 27, 79, 41]\n",
            "list after Adding element at list [54, 44, 91, 27, 79, 41, 91]\n"
          ]
        }
      ]
    },
    {
      "cell_type": "markdown",
      "source": [
        "3. Slice list into 3 equal chunks and reverse each chunk"
      ],
      "metadata": {
        "id": "KJd_nimYSjQP"
      }
    },
    {
      "cell_type": "code",
      "source": [
        "sample_list = [11,45, 8, 23, 14, 12,78,45,89]\n",
        "print(\"original list\", sample_list)\n",
        "\n",
        "length = len(sample_list)\n",
        "chunk_size = int(length/3)\n",
        "start = 0\n",
        "end = chunk_size\n",
        "\n",
        "#run loop 3 times\n",
        "for i in range(3):\n",
        "  #get indexes\n",
        "  indexes = slice(start, end)\n",
        "\n",
        "\n",
        "  #get chunk\n",
        "\n",
        "  list_chunk = sample_list[indexes]\n",
        "  print(\"chunk\", i, list_chunk)\n",
        "\n",
        "  #reverse chunk\n",
        "  print(\"After reversing it\", list(reversed(list_chunk)))\n",
        "\n",
        "  start = end\n",
        "  end += chunk_size\n",
        "  "
      ],
      "metadata": {
        "id": "hrTJERlzSVN3",
        "outputId": "1e11ed99-6505-4eef-fe38-4a58a35bfa35",
        "colab": {
          "base_uri": "https://localhost:8080/"
        }
      },
      "execution_count": 20,
      "outputs": [
        {
          "output_type": "stream",
          "name": "stdout",
          "text": [
            "original list [11, 45, 8, 23, 14, 12, 78, 45, 89]\n",
            "chunk 0 [11, 45, 8]\n",
            "After reversing it [8, 45, 11]\n",
            "chunk 1 [23, 14, 12]\n",
            "After reversing it [12, 14, 23]\n",
            "chunk 2 [78, 45, 89]\n",
            "After reversing it [89, 45, 78]\n"
          ]
        }
      ]
    },
    {
      "cell_type": "markdown",
      "source": [
        "4. count the occurence of each element from a list"
      ],
      "metadata": {
        "id": "TvB1YsbdUg0e"
      }
    },
    {
      "cell_type": "code",
      "source": [
        "sample_list = [11,45,8,11,23,45,78,99,57,45]\n",
        "print(\"Original list\", sample_list)\n",
        "\n",
        "count_dict = dict()\n",
        "for item in sample_list:\n",
        "  if item in count_dict:\n",
        "    count_dict[item] += 1\n",
        "  else:\n",
        "    count_dict[item] = 1\n",
        "\n",
        "print(\"printing count of each item\", count_dict)\n"
      ],
      "metadata": {
        "id": "lbmTdUZXUVhb",
        "outputId": "37e1b3d2-b7e9-49d8-8f38-96f84e7fc362",
        "colab": {
          "base_uri": "https://localhost:8080/"
        }
      },
      "execution_count": 23,
      "outputs": [
        {
          "output_type": "stream",
          "name": "stdout",
          "text": [
            "Original list [11, 45, 8, 11, 23, 45, 78, 99, 57, 45]\n",
            "printing count of each item {11: 2, 45: 3, 8: 1, 23: 1, 78: 1, 99: 1, 57: 1}\n"
          ]
        }
      ]
    },
    {
      "cell_type": "markdown",
      "source": [
        "5. create a python set such that it shows the element from both lists in a pair"
      ],
      "metadata": {
        "id": "jxeEGbuiV7au"
      }
    },
    {
      "cell_type": "code",
      "source": [
        "first_list = [2,3,4,5,6,78,7,8,6]\n",
        "print(\"First list\", first_list)\n",
        "\n",
        "second_list = [4,9,16,25,36,49,64]\n",
        "print(\"second list\", second_list)\n",
        "\n",
        "result = zip(first_list, second_list)\n",
        "result_set = set(result)\n",
        "print(result_set)"
      ],
      "metadata": {
        "id": "uMRV8fTwVbyl",
        "outputId": "a80e2a1d-846f-4979-862b-c48f4480c4d0",
        "colab": {
          "base_uri": "https://localhost:8080/"
        }
      },
      "execution_count": 24,
      "outputs": [
        {
          "output_type": "stream",
          "name": "stdout",
          "text": [
            "First list [2, 3, 4, 5, 6, 78, 7, 8, 6]\n",
            "second list [4, 9, 16, 25, 36, 49, 64]\n",
            "{(6, 36), (78, 49), (7, 64), (4, 16), (5, 25), (3, 9), (2, 4)}\n"
          ]
        }
      ]
    },
    {
      "cell_type": "markdown",
      "source": [
        "6. Find the intersection(common) of two sets and remove those elements from the first set"
      ],
      "metadata": {
        "id": "i5TMNJLIYMl0"
      }
    },
    {
      "cell_type": "code",
      "source": [
        "first_set = {23,42,34,65,57,83,29,33,23,45,664,67,46,34}\n",
        "second_set = {57,83,24,233,3,4,34,23,34,56,68,35,23,42,46,34,46,34,57,87}\n",
        "\n",
        "print(\"first set\", first_set)\n",
        "print(\"second set\", second_set)\n",
        "\n",
        "intersection = first_set.intersection(second_set)\n",
        "print(\"intersection is\", intersection)\n",
        "for item in intersection:\n",
        "  first_set.remove(item)\n",
        "\n",
        "print(\"First set after removing common element\", first_set)\n",
        "\n",
        "\n"
      ],
      "metadata": {
        "id": "43vu1RD5YHhM",
        "outputId": "4dfd1553-b9f6-4d62-f21e-0c242ab4e298",
        "colab": {
          "base_uri": "https://localhost:8080/"
        }
      },
      "execution_count": 25,
      "outputs": [
        {
          "output_type": "stream",
          "name": "stdout",
          "text": [
            "first set {65, 34, 33, 67, 42, 45, 46, 83, 23, 664, 57, 29}\n",
            "second set {34, 3, 4, 68, 35, 233, 42, 46, 83, 87, 23, 24, 57, 56}\n",
            "intersection is {34, 42, 46, 83, 23, 57}\n",
            "First set after removing common element {65, 33, 67, 45, 664, 29}\n"
          ]
        }
      ]
    },
    {
      "cell_type": "markdown",
      "source": [
        "7. checks if one set is a subset or superset of another set. if found, delete all elements from the set.\n"
      ],
      "metadata": {
        "id": "hAqqAAa_aL49"
      }
    },
    {
      "cell_type": "code",
      "source": [
        "first_set = {57, 83, 29}\n",
        "second_set = {57, 83, 67, 73, 43, 48}\n",
        "\n",
        "print(\"First set\", first_set)\n",
        "print(\"second set\", second_set)\n",
        "\n",
        "print(\"first set is subset of second set\", first_set.issubset(second_set))\n",
        "print(\"Second set is subset of First set - \", second_set.issubset(first_set))\n",
        "\n",
        "print(\"First set is Super set of second set - \", first_set.issuperset(second_set))\n",
        "print(\"Second set is Super set of First set - \", second_set.issuperset(first_set))\n",
        "\n",
        "if first_set.issubset(second_set):\n",
        "  first_set.clear()\n",
        "\n",
        "if second_set.issubset(first_set):\n",
        "  second_set.clear()\n",
        "\n",
        "print(\"first set\", first_set)\n",
        "print(\"second set\", second_set)\n",
        "\n"
      ],
      "metadata": {
        "id": "z2XRUik3aBhM",
        "outputId": "c332fdfe-a21d-4fca-ee4a-d98725f4f295",
        "colab": {
          "base_uri": "https://localhost:8080/"
        }
      },
      "execution_count": 26,
      "outputs": [
        {
          "output_type": "stream",
          "name": "stdout",
          "text": [
            "First set {57, 83, 29}\n",
            "second set {67, 73, 43, 48, 83, 57}\n",
            "first set is subset of second set False\n",
            "Second set is subset of First set -  False\n",
            "First set is Super set of second set -  False\n",
            "Second set is Super set of First set -  False\n",
            "first set {57, 83, 29}\n",
            "second set {67, 73, 43, 48, 83, 57}\n"
          ]
        }
      ]
    },
    {
      "cell_type": "markdown",
      "source": [
        "Exercise 8: Iterate a given list and check if a given element exists as a key’s value in a dictionary. If not, delete it from the list"
      ],
      "metadata": {
        "id": "3U4GrqVMb_ls"
      }
    },
    {
      "cell_type": "code",
      "source": [
        "roll_number = [47, 64, 69, 37, 76, 83, 95, 97]\n",
        "sample_dict = {'Jhon': 47, 'Emma': 69, 'Kelly': 76, 'Jason': 97}\n",
        "\n",
        "print(\"List:\", roll_number)\n",
        "print(\"Dictionary:\", sample_dict)\n",
        "\n",
        "# create new list\n",
        "roll_number[:] = [item for item in roll_number if item in sample_dict.values()]\n",
        "print(\"after removing unwanted elements from list:\", roll_number)"
      ],
      "metadata": {
        "id": "BIm20WR-bwD7",
        "outputId": "147d02c2-6d68-4215-f050-cce245df7150",
        "colab": {
          "base_uri": "https://localhost:8080/"
        }
      },
      "execution_count": 27,
      "outputs": [
        {
          "output_type": "stream",
          "name": "stdout",
          "text": [
            "List: [47, 64, 69, 37, 76, 83, 95, 97]\n",
            "Dictionary: {'Jhon': 47, 'Emma': 69, 'Kelly': 76, 'Jason': 97}\n",
            "after removing unwanted elements from list: [47, 69, 76, 97]\n"
          ]
        }
      ]
    },
    {
      "cell_type": "markdown",
      "source": [
        "Exercise 9: Get all values from the dictionary and add them to a list but don’t add duplicates"
      ],
      "metadata": {
        "id": "HU3V0vH5cP8F"
      }
    },
    {
      "cell_type": "code",
      "source": [
        "speed = {'jan': 47, 'feb': 52, 'march': 47, 'April': 44, 'May': 52, 'June': 53,\n",
        "         'july': 54, 'Aug': 44, 'Sept': 54}\n",
        "\n",
        "print(\"Dictionary's values - \", speed.values())\n",
        "\n",
        "speed_list = list()\n",
        "\n",
        "# iterate dict values\n",
        "for val in speed.values():\n",
        "    # check if value not present in a list\n",
        "    if val not in speed_list:\n",
        "        speed_list.append(val)\n",
        "print(\"unique list\", speed_list)"
      ],
      "metadata": {
        "id": "N_RvA6OEcHMG",
        "outputId": "95cb9398-939e-4f0e-b5f7-0b8fe43c256b",
        "colab": {
          "base_uri": "https://localhost:8080/"
        }
      },
      "execution_count": 28,
      "outputs": [
        {
          "output_type": "stream",
          "name": "stdout",
          "text": [
            "Dictionary's values -  dict_values([47, 52, 47, 44, 52, 53, 54, 44, 54])\n",
            "unique list [47, 52, 44, 53, 54]\n"
          ]
        }
      ]
    },
    {
      "cell_type": "markdown",
      "source": [
        "Exercise 10: Remove duplicates from a list and create a tuple and find the minimum and maximum number"
      ],
      "metadata": {
        "id": "oOrinrp2caXq"
      }
    },
    {
      "cell_type": "code",
      "source": [
        "sample_list = [87, 52, 44, 53, 54, 87, 52, 53]\n",
        "\n",
        "print(\"Original list\", sample_list)\n",
        "\n",
        "sample_list = list(set(sample_list))\n",
        "print(\"unique list\", sample_list)\n",
        "\n",
        "t = tuple(sample_list)\n",
        "print(\"tuple \", t)\n",
        "\n",
        "print(\"Minimum number is: \", min(t))\n",
        "print(\"Maximum number is: \", max(t))"
      ],
      "metadata": {
        "id": "OkUklu97cVBV",
        "outputId": "da3263c1-13b2-4373-e735-8503356327e2",
        "colab": {
          "base_uri": "https://localhost:8080/"
        }
      },
      "execution_count": 29,
      "outputs": [
        {
          "output_type": "stream",
          "name": "stdout",
          "text": [
            "Original list [87, 52, 44, 53, 54, 87, 52, 53]\n",
            "unique list [44, 52, 53, 54, 87]\n",
            "tuple  (44, 52, 53, 54, 87)\n",
            "Minimum number is:  44\n",
            "Maximum number is:  87\n"
          ]
        }
      ]
    },
    {
      "cell_type": "code",
      "source": [],
      "metadata": {
        "id": "bP_pv80AchXf"
      },
      "execution_count": null,
      "outputs": []
    }
  ]
}